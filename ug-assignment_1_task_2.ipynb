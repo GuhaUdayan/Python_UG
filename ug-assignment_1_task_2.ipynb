{
 "cells": [
  {
   "cell_type": "markdown",
   "metadata": {},
   "source": [
    "# Task 2:"
   ]
  },
  {
   "cell_type": "markdown",
   "metadata": {},
   "source": [
    "1. Write a program which accepts a sequence of comma-separated numbers from console and\n",
    "generate a list.\n"
   ]
  },
  {
   "cell_type": "code",
   "execution_count": 46,
   "metadata": {},
   "outputs": [
    {
     "name": "stdout",
     "output_type": "stream",
     "text": [
      "Please enter comma separated numbers which you want to create list : qwe\n",
      "new_list : ['q', 'w', 'e']\n"
     ]
    }
   ],
   "source": [
    "input_numbers = list(input(\"Please enter comma separated numbers which you want to create list : \"))\n",
    "new_list = []\n",
    "for i in input_numbers:\n",
    "    new_list.append(i)\n",
    " \n",
    "print(\"new_list : \" + str(new_list))\n"
   ]
  },
  {
   "cell_type": "markdown",
   "metadata": {},
   "source": [
    "2.\n",
    "Create the below pattern using nested for loop in Python.\n",
    " *\n",
    " * *\n",
    " * * *\n",
    " * * * *\n",
    " * * * * *\n",
    " * * * *\n",
    " * * *\n",
    " * *\n"
   ]
  },
  {
   "cell_type": "code",
   "execution_count": 47,
   "metadata": {},
   "outputs": [
    {
     "name": "stdout",
     "output_type": "stream",
     "text": [
      "\n",
      "*\n",
      "**\n",
      "***\n",
      "****\n",
      "*****\n",
      "****\n",
      "***\n",
      "**\n",
      "*\n"
     ]
    }
   ],
   "source": [
    "#define max length of stars\n",
    "star_len = 5\n",
    "i=0\n",
    "while( i< int(star_len)):\n",
    "    print(str(\"*\") * i)\n",
    "    i+=1\n",
    "star_len -=1\n",
    "\n",
    "while(i > 0) :\n",
    "    print(str(\"*\")*i)\n",
    "    i-=1       "
   ]
  },
  {
   "cell_type": "markdown",
   "metadata": {},
   "source": [
    "3.\n",
    "Write a Python program to reverse a word after accepting the input from the user.\n",
    "Sample Output:\n",
    "Input word: AcadGild\n",
    "Output: dilGdacA"
   ]
  },
  {
   "cell_type": "code",
   "execution_count": 48,
   "metadata": {},
   "outputs": [
    {
     "name": "stdout",
     "output_type": "stream",
     "text": [
      "Enter a word to be reversed :toofan\n",
      "nafoot\n"
     ]
    }
   ],
   "source": [
    "input_word = input(\"Enter a word to be reversed :\")\n",
    "word_len = len(input_word)\n",
    "\n",
    "print(input_word[word_len::-1])\n",
    "    "
   ]
  },
  {
   "cell_type": "markdown",
   "metadata": {},
   "source": [
    "another solution for the same question ---"
   ]
  },
  {
   "cell_type": "code",
   "execution_count": 49,
   "metadata": {},
   "outputs": [
    {
     "name": "stdout",
     "output_type": "stream",
     "text": [
      "Enter a word to be reversed : toofan\n",
      "nafoot"
     ]
    }
   ],
   "source": [
    "#take input\n",
    "input_word = input(\"Enter a word to be reversed : \")\n",
    "output_word = \"\"\n",
    "i=0\n",
    "#computation\n",
    "for i in input_word:\n",
    "   output_word = i + output_word\n",
    "print(output_word,end=\"\")    \n"
   ]
  },
  {
   "cell_type": "markdown",
   "metadata": {},
   "source": [
    "4.\n",
    "Write a Python Program to print the given string in the format specified in the sample output.\n",
    "WE, THE PEOPLE OF INDIA, having solemnly resolved to constitute India into a\n",
    "SOVEREIGN, SOCIALIST, SECULAR, DEMOCRATIC REPUBLIC and to secure to all\n",
    "its citizens\n",
    "Sample Output:\n",
    "WE, THE PEOPLE OF INDIA,\n",
    "having solemnly resolved to constitute India into a SOVEREIGN, !\n",
    "SOCIALIST, SECULAR, DEMOCRATIC REPUBLIC\n",
    "and to secure to all its citizens\n"
   ]
  },
  {
   "cell_type": "code",
   "execution_count": 70,
   "metadata": {},
   "outputs": [
    {
     "name": "stdout",
     "output_type": "stream",
     "text": [
      "WE,  THE PEOPLE OF INDIA,\n",
      "\t having solemnly resolved to constitute India into a SOVEREIGN, !\n",
      "\t\t SOCIALIST,  SECULAR DEMOCRATIC REPUBLIC \n",
      "\t\t and  to secure to all its citizens\n"
     ]
    }
   ],
   "source": [
    "input_para = \"WE, THE PEOPLE OF INDIA, having solemnly resolved to constitute India into a SOVEREIGN, SOCIALIST, SECULAR, DEMOCRATIC REPUBLIC and to secure to all its citizens\"\n",
    "\n",
    "split_para = input_para.split(\",\")\n",
    "\n",
    "first_line = split_para[0] + \", \" + split_para[1] + \",\"\n",
    "\n",
    "second_line = \"\\t\" + split_para[2] + \", \" + \"!\"\n",
    "\n",
    "split_line = split_para[5].split(\"and\") \n",
    "\n",
    "third_line = \"\\t\\t\" + split_para[3] + \", \" + split_para[4] + split_line[0]\n",
    "\n",
    "fourth_line = \"\\t\\t and \" + split_line[1] \n",
    "\n",
    "print(first_line)\n",
    "print(second_line)\n",
    "print(third_line)\n",
    "print(fourth_line)\n"
   ]
  },
  {
   "cell_type": "code",
   "execution_count": null,
   "metadata": {},
   "outputs": [],
   "source": []
  }
 ],
 "metadata": {
  "kernelspec": {
   "display_name": "Python 3",
   "language": "python",
   "name": "python3"
  },
  "language_info": {
   "codemirror_mode": {
    "name": "ipython",
    "version": 3
   },
   "file_extension": ".py",
   "mimetype": "text/x-python",
   "name": "python",
   "nbconvert_exporter": "python",
   "pygments_lexer": "ipython3",
   "version": "3.7.3"
  }
 },
 "nbformat": 4,
 "nbformat_minor": 2
}
